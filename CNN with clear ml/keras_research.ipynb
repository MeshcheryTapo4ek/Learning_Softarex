{
 "cells": [
  {
   "cell_type": "code",
   "execution_count": 1,
   "id": "77104494-f0df-4eaa-b8db-4d6d3150e2e2",
   "metadata": {},
   "outputs": [
    {
     "name": "stdout",
     "output_type": "stream",
     "text": [
      "env: CLEARML_WEB_HOST=https://app.clear.ml\n",
      "env: CLEARML_API_HOST=https://api.clear.ml\n",
      "env: CLEARML_FILES_HOST=https://files.clear.ml\n",
      "env: CLEARML_API_ACCESS_KEY=QZUGSYSXCC1B19G38ETQ\n",
      "env: CLEARML_API_SECRET_KEY=qHCvroHchWwGmwAcCAhaFbBLUQ90BwxVW1qoMxifgMNkHAPsk3\n",
      "ClearML Task: created new task id=a72a59a972d541c1aa8874125735c96d\n",
      "2023-10-13 12:02:09,902 - clearml.Task - INFO - Storing jupyter notebook directly as code\n",
      "ClearML results page: https://app.clear.ml/projects/2eea372b5e60460e98ffcfcc4b47b092/experiments/a72a59a972d541c1aa8874125735c96d/output/log\n"
     ]
    }
   ],
   "source": [
    "%env CLEARML_WEB_HOST=https://app.clear.ml\n",
    "%env CLEARML_API_HOST=https://api.clear.ml\n",
    "%env CLEARML_FILES_HOST=https://files.clear.ml\n",
    "%env CLEARML_API_ACCESS_KEY=QZUGSYSXCC1B19G38ETQ\n",
    "%env CLEARML_API_SECRET_KEY=qHCvroHchWwGmwAcCAhaFbBLUQ90BwxVW1qoMxifgMNkHAPsk3\n",
    "from clearml import Task, Dataset\n",
    "task = Task.init(project_name='great project', task_name='Keras Research', output_uri = True)"
   ]
  },
  {
   "cell_type": "code",
   "execution_count": 2,
   "id": "aa2fcbaa-1045-48d6-998c-181c10f86090",
   "metadata": {},
   "outputs": [],
   "source": [
    "import numpy as np\n",
    "import tensorflow as tf\n",
    "import matplotlib.pyplot as plt\n",
    "\n",
    "from tensorflow.keras import layers\n",
    "from tensorflow.keras.datasets import mnist\n",
    "from tensorflow.keras.models import Model"
   ]
  },
  {
   "cell_type": "code",
   "execution_count": null,
   "id": "b668bd0b-3754-4e0f-bc25-d1c67a003543",
   "metadata": {},
   "outputs": [],
   "source": [
    "data_path = Dataset.get(dataset_name = \"np mnist data\", alias = \"np mnist data\").get_local_copy()\n",
    "print(data_path)\n",
    "\n",
    "train_data = np.load(f\"{data_path}/train_data.npy\")\n",
    "test_data = np.load(f\"{data_path}/test_data.npy\")\n",
    "noisy_test_data = np.load(f\"{data_path}/noisy_test_data.npy\")\n",
    "noisy_train_data = np.load(f\"{data_path}/noisy_train_data.npy\")\n",
    "y_train = np.load(f\"{data_path}/y_train.npy\")\n",
    "y_test = np.load(f\"{data_path}/y_test.npy\")"
   ]
  },
  {
   "cell_type": "code",
   "execution_count": 3,
   "id": "e197b02c-0c29-4b7b-aeb7-eb20a025dc34",
   "metadata": {},
   "outputs": [
    {
     "name": "stdout",
     "output_type": "stream",
     "text": [
      "ClearML Monitor: Could not detect iteration reporting, falling back to iterations as seconds-from-start\n"
     ]
    }
   ],
   "source": [
    "\n",
    "current_directory = \"C:\\\\Users\\\\egors\\\\jupyter\"\n",
    "\n",
    "data_path = f\"{current_directory}\\\\files\"\n",
    "\n",
    "train_data = np.load(f\"{data_path}\\\\train_data.npy\")\n",
    "test_data = np.load(f\"{data_path}\\\\test_data.npy\")\n",
    "noisy_test_data = np.load(f\"{data_path}\\\\noisy_test_data.npy\")\n",
    "noisy_train_data = np.load(f\"{data_path}\\\\noisy_train_data.npy\")\n",
    "y_train = np.load(f\"{data_path}\\\\y_train.npy\")\n",
    "y_test = np.load(f\"{data_path}\\\\y_test.npy\")"
   ]
  },
  {
   "cell_type": "code",
   "execution_count": 5,
   "id": "b0ac2c97-fc42-4ca8-ae7b-974738466359",
   "metadata": {},
   "outputs": [],
   "source": [
    "from tensorflow.keras.models import Model\n",
    "from tensorflow.keras.layers import Input, Flatten, Dense, Conv2D, MaxPooling2D\n",
    "from tensorflow.keras.utils import to_categorical\n",
    "\n",
    "\n",
    "y_train_cat = to_categorical(y_train, 10)\n",
    "y_test_cat = to_categorical(y_test, 10)\n"
   ]
  },
  {
   "cell_type": "code",
   "execution_count": 6,
   "id": "3e663c30-b7f0-4a9a-a27f-2d40a8d5bc52",
   "metadata": {},
   "outputs": [
    {
     "name": "stdout",
     "output_type": "stream",
     "text": [
      "Epoch 1/2\n",
      "938/938 [==============================] - 35s 36ms/step - loss: 0.1432 - accuracy: 0.9567 - val_loss: 0.0462 - val_accuracy: 0.9846\n",
      "Epoch 2/2\n",
      "938/938 [==============================] - 33s 35ms/step - loss: 0.0422 - accuracy: 0.9869 - val_loss: 0.0384 - val_accuracy: 0.9868\n"
     ]
    }
   ],
   "source": [
    "# Создание сверточной сети\n",
    "\n",
    "data = {\"batch_size\":64, \"epochs\":2, \"first layer filter\":5, \"second layer filter\":3, \"MaxPooling\":2}\n",
    "task.connect(data)\n",
    "\n",
    "input_img = Input(shape=(28, 28, 1))\n",
    "x = Conv2D(32, (data[\"first layer filter\"], data[\"first layer filter\"]), activation='relu')(input_img)\n",
    "x = MaxPooling2D((2, 2))(x)\n",
    "x = Conv2D(64, (data[\"second layer filter\"], data[\"second layer filter\"]), activation='relu')(x)\n",
    "x = MaxPooling2D((data[\"MaxPooling\"], data[\"MaxPooling\"]))(x)\n",
    "x = Flatten()(x)\n",
    "x = Dense(128, activation='relu')(x)\n",
    "output = Dense(10, activation='softmax')(x)\n",
    "\n",
    "model = Model(input_img, output)\n",
    "model.compile(loss='categorical_crossentropy', optimizer='adam', metrics=['accuracy'])\n",
    "\n",
    "history = model.fit(train_data, y_train_cat, batch_size = data[\"batch_size\"], epochs = data[\"epochs\"], validation_data=(test_data, y_test_cat))"
   ]
  },
  {
   "cell_type": "code",
   "execution_count": null,
   "id": "c3276ccc-4a54-4674-aa8d-6c342433b957",
   "metadata": {},
   "outputs": [],
   "source": [
    "# Построение графика функции потерь\n",
    "plt.plot(history.history['loss'], label='Training Loss')\n",
    "plt.plot(history.history['val_loss'], label='Validation Loss')\n",
    "plt.title('Training and Validation Loss') \n",
    "plt.xlabel('Epoch')\n",
    "plt.ylabel('Loss')\n",
    "plt.legend()\n",
    "plt.show()\n",
    "plt.savefig('loss_plot.png')\n",
    "\n",
    "plt.plot(history.history['accuracy'], label='Training Accuracy')\n",
    "plt.plot(history.history['val_accuracy'], label='Validation Accuracy')\n",
    "plt.title('Training and Validation Accuracy') \n",
    "plt.xlabel('Epoch')\n",
    "plt.ylabel('Accuracy')\n",
    "plt.legend()\n",
    "plt.show()\n",
    "plt.savefig('Training_and_Validation_Accuracy.png')\n",
    "\n",
    "# Оценка производительности модели\n",
    "score = model.evaluate(test_data, y_test_cat, verbose=0)\n",
    "print('Test loss:', score[0])\n",
    "print('Test accuracy:', score[1])"
   ]
  },
  {
   "cell_type": "code",
   "execution_count": 23,
   "id": "69008268-89c1-4622-a94f-2bac8294c170",
   "metadata": {},
   "outputs": [
    {
     "data": {
      "image/png": "[encoded data removed]",
      "text/plain": [
       "<Figure size 1000x200 with 5 Axes>"
      ]
     },
     "metadata": {},
     "output_type": "display_data"
    },
    {
     "name": "stdout",
     "output_type": "stream",
     "text": [
      "1/1 [==============================] - 0s 238ms/step\n",
      "5\n",
      "1/1 [==============================] - 0s 33ms/step\n",
      "0\n",
      "1/1 [==============================] - 0s 51ms/step\n",
      "4\n",
      "1/1 [==============================] - 0s 55ms/step\n",
      "1\n",
      "1/1 [==============================] - 0s 56ms/step\n",
      "9\n"
     ]
    }
   ],
   "source": [
    "def plot_digits(*args):\n",
    "    args = [x.squeeze() for x in args]\n",
    "    n = min([x.shape[0] for x in args])\n",
    "    \n",
    "    plt.figure(figsize=(2*n, 2*len(args)))\n",
    "    for j in range(n):\n",
    "        for i in range(len(args)):\n",
    "            ax = plt.subplot(len(args), n, i*n + j + 1)\n",
    "            plt.imshow(args[i][j])\n",
    "            plt.gray()\n",
    "            ax.get_xaxis().set_visible(False)\n",
    "            ax.get_yaxis().set_visible(False)\n",
    "\n",
    "    plt.show()\n",
    "\n",
    "\n",
    "n=5\n",
    "imgs = train_data[:n]\n",
    "for img in imgs:\n",
    "    prediction = model.predict(img.reshape(1, 28, 28, 1))\n",
    "    predicted_class = np.argmax(prediction)\n",
    "    print(predicted_class)\n"
   ]
  },
  {
   "cell_type": "code",
   "execution_count": null,
   "id": "724e84dc-678a-4293-a6f2-e1d816a04ea4",
   "metadata": {},
   "outputs": [],
   "source": []
  }
 ],
 "metadata": {
  "kernelspec": {
   "display_name": "Python 3 (ipykernel)",
   "language": "python",
   "name": "python3"
  },
  "language_info": {
   "codemirror_mode": {
    "name": "ipython",
    "version": 3
   },
   "file_extension": ".py",
   "mimetype": "text/x-python",
   "name": "python",
   "nbconvert_exporter": "python",
   "pygments_lexer": "ipython3",
   "version": "3.11.4"
  }
 },
 "nbformat": 4,
 "nbformat_minor": 5
}
