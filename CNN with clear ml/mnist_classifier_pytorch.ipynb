{
 "cells": [
  {
   "cell_type": "code",
   "execution_count": 27,
   "id": "d863e957-9f7e-4f38-8101-868e30d70c3f",
   "metadata": {},
   "outputs": [],
   "source": [
    "import torch\n",
    "import torch.nn as nn\n",
    "import torchvision as tv\n",
    "import torch.nn.functional as F\n",
    "\n",
    "import numpy as np\n",
    "\n",
    "import tkinter\n",
    "import matplotlib\n",
    "import matplotlib.pyplot as plt\n",
    "\n",
    "import cv2\n",
    "import os\n",
    "\n",
    "\n",
    "from tqdm import tqdm\n",
    "import math"
   ]
  },
  {
   "cell_type": "code",
   "execution_count": 28,
   "id": "f2783f7b-9306-4ded-af73-e213d33f720f",
   "metadata": {},
   "outputs": [
    {
     "name": "stdout",
     "output_type": "stream",
     "text": [
      "env: CLEARML_WEB_HOST=https://app.clear.ml\n",
      "env: CLEARML_API_HOST=https://api.clear.ml\n",
      "env: CLEARML_FILES_HOST=https://files.clear.ml\n",
      "env: CLEARML_API_ACCESS_KEY=4YVJK2DT3CT4CBQQSY6L\n",
      "env: CLEARML_API_SECRET_KEY=5hyFEfqGpQyjGE0H6sZ9X9d7cpeJJvX5Q07vUbSMz16fBbdNGH\n"
     ]
    }
   ],
   "source": [
    "%env CLEARML_WEB_HOST=https://app.clear.ml\n",
    "%env CLEARML_API_HOST=https://api.clear.ml\n",
    "%env CLEARML_FILES_HOST=https://files.clear.ml\n",
    "%env CLEARML_API_ACCESS_KEY=4YVJK2DT3CT4CBQQSY6L\n",
    "%env CLEARML_API_SECRET_KEY=5hyFEfqGpQyjGE0H6sZ9X9d7cpeJJvX5Q07vUbSMz16fBbdNGH\n",
    "from clearml import Task, Dataset\n",
    "task = Task.init(project_name='pytorch CNN', task_name='pythorch CNN research', output_uri = True)"
   ]
  },
  {
   "cell_type": "code",
   "execution_count": 29,
   "id": "0889ea44-1866-416d-b939-1b1f7a0fc869",
   "metadata": {},
   "outputs": [],
   "source": [
    "trans = tv.transforms.Compose([\n",
    "    tv.transforms.ToTensor()\n",
    "])"
   ]
  },
  {
   "cell_type": "code",
   "execution_count": 30,
   "id": "d0049512-e336-4208-89b2-025a1f499ef9",
   "metadata": {},
   "outputs": [],
   "source": [
    "ds_mnist = tv.datasets.MNIST('./dataset', download = True, transform = trans)"
   ]
  },
  {
   "cell_type": "code",
   "execution_count": 31,
   "id": "358e2208-2d64-414b-9440-aed38d496eb2",
   "metadata": {},
   "outputs": [
    {
     "data": {
      "text/plain": [
       "<matplotlib.image.AxesImage at 0x17f2c608450>"
      ]
     },
     "execution_count": 31,
     "metadata": {},
     "output_type": "execute_result"
    },
    {
     "data": {
      "image/png": "[encoded data removed]",
      "text/plain": [
       "<Figure size 640x480 with 1 Axes>"
      ]
     },
     "metadata": {},
     "output_type": "display_data"
    }
   ],
   "source": [
    "ds_mnist[0][0].shape\n",
    "plt.imshow(ds_mnist[1][0].numpy()[0])"
   ]
  },
  {
   "cell_type": "code",
   "execution_count": 32,
   "id": "3e55b5cc-cb3d-4c55-8aed-50f1c36212ae",
   "metadata": {},
   "outputs": [],
   "source": [
    "data = {\"batch_size\":16, \"epochs\":5, \"1st layer neurons\":32, \"2nd layer neurons\":64, \"1st layer kernel\":3, \"2nd layer kernel\":3}\n",
    "task.connect(data)\n",
    "\n",
    "dataloader = torch.utils.data.DataLoader(ds_mnist, batch_size = data[\"batch_size\"], shuffle = True)"
   ]
  },
  {
   "cell_type": "code",
   "execution_count": 33,
   "id": "7f939d90-58f6-4e17-9b3b-371b44e03f0f",
   "metadata": {},
   "outputs": [
    {
     "name": "stdout",
     "output_type": "stream",
     "text": [
      "torch.Size([16, 1, 28, 28])\n",
      "torch.Size([16])\n"
     ]
    }
   ],
   "source": [
    "for img, label in dataloader:\n",
    "    print(img.shape)\n",
    "    print(label.shape)\n",
    "    break"
   ]
  },
  {
   "cell_type": "code",
   "execution_count": 34,
   "id": "65f6ce31-0114-454a-a48e-2eb8265ab2a9",
   "metadata": {},
   "outputs": [],
   "source": [
    "def calculate_output_size(kernel_size, input_size, padding, stride):\n",
    "    return ((input_size - kernel_size + 2 * padding) // stride) + 1\n",
    "\n",
    "class Numbers(nn.Module):\n",
    "    def __init__(self):\n",
    "        super().__init__()\n",
    "        self.conv1 = nn.Conv2d(1, data[\"1st layer neurons\"], kernel_size=data[\"1st layer kernel\"], stride=1, padding=1)\n",
    "        self.conv2 = nn.Conv2d(data[\"1st layer neurons\"],data[\"2nd layer neurons\"], kernel_size=data[\"2nd layer kernel\"], stride=1, padding=1)\n",
    "        \n",
    "        output_size1 = calculate_output_size(data[\"1st layer kernel\"], input_size=28, padding=1, stride=1)\n",
    "        print(output_size1)\n",
    "        output_size2 = calculate_output_size(data[\"2nd layer kernel\"], input_size=output_size1, padding=1, stride=1)\n",
    "        print(output_size2)\n",
    "\n",
    "        dim =math.ceil( (output_size2 - data[\"2nd layer kernel\"] + 1)/2 /2)\n",
    "        print(dim)\n",
    "        self.fc1 = nn.Linear(data[\"2nd layer neurons\"] * dim * dim, 128)\n",
    "        self.fc2 = nn.Linear(128, 10)\n",
    "        \n",
    "       # self.conv1 = nn.Conv2d(1, 32, kernel_size=3, stride=1, padding=1)\n",
    "       # self.conv2 = nn.Conv2d(32, 64, kernel_size=3, stride=1, padding=1)\n",
    "       # self.fc1 = nn.Linear(64 * 7 * 7, 128)\n",
    "       # self.fc2 = nn.Linear(128, 10)\n",
    "\n",
    "    def forward(self, x):\n",
    "        x = F.relu(self.conv1(x))\n",
    "        x = F.max_pool2d(x, 2)\n",
    "        x = F.relu(self.conv2(x))\n",
    "        x = F.max_pool2d(x, 2)\n",
    "        x = x.view(x.size(0), -1)\n",
    "        x = F.relu(self.fc1(x))\n",
    "        x = self.fc2(x)\n",
    "        return x\n",
    "        "
   ]
  },
  {
   "cell_type": "code",
   "execution_count": 35,
   "id": "5ec1aa29-7561-4509-b645-346d1e02c9c0",
   "metadata": {},
   "outputs": [
    {
     "name": "stdout",
     "output_type": "stream",
     "text": [
      "28\n",
      "28\n",
      "7\n"
     ]
    }
   ],
   "source": [
    "model = Numbers()"
   ]
  },
  {
   "cell_type": "code",
   "execution_count": 36,
   "id": "12b76628-7d79-4c5d-8bea-90ef256cd4c6",
   "metadata": {},
   "outputs": [
    {
     "data": {
      "text/plain": [
       "421642"
      ]
     },
     "execution_count": 36,
     "metadata": {},
     "output_type": "execute_result"
    }
   ],
   "source": [
    "sum(p.numel() for p in model.parameters() if p.requires_grad)"
   ]
  },
  {
   "cell_type": "code",
   "execution_count": 37,
   "id": "2f5ed2ff-a014-421d-abb1-f950a9dba7c3",
   "metadata": {},
   "outputs": [],
   "source": [
    "loss_fn = nn.CrossEntropyLoss()"
   ]
  },
  {
   "cell_type": "code",
   "execution_count": 38,
   "id": "c01e0b7b-4af0-4167-a580-9e407c38c245",
   "metadata": {},
   "outputs": [],
   "source": [
    "optimizer = torch.optim.SGD(model.parameters(), lr = 1e-3, momentum = 0.9)"
   ]
  },
  {
   "cell_type": "code",
   "execution_count": 39,
   "id": "1efd18c8-755d-48cb-83dd-4d03d9a8c400",
   "metadata": {},
   "outputs": [],
   "source": [
    "def accuracy(pred, label):\n",
    "    answer = F.softmax(pred.detach(), dim=1).numpy().argmax(1) == label.numpy().argmax(1)\n",
    "    return answer.mean()"
   ]
  },
  {
   "cell_type": "code",
   "execution_count": 40,
   "id": "da85fffd-bd76-4ba1-a5ea-3d97f2470385",
   "metadata": {},
   "outputs": [
    {
     "name": "stderr",
     "output_type": "stream",
     "text": [
      " epoch : 0\t loss: 0.07453\t accuracy: 1.000: 100%|██████████████████████████████████| 3750/3750 [01:58<00:00, 31.75it/s]\n"
     ]
    },
    {
     "name": "stdout",
     "output_type": "stream",
     "text": [
      " mid loss : 0.41396\n",
      " accuracy : 0.87103\n"
     ]
    },
    {
     "name": "stderr",
     "output_type": "stream",
     "text": [
      " epoch : 1\t loss: 0.05620\t accuracy: 1.000: 100%|██████████████████████████████████| 3750/3750 [02:03<00:00, 30.47it/s]\n"
     ]
    },
    {
     "name": "stdout",
     "output_type": "stream",
     "text": [
      " mid loss : 0.11299\n",
      " accuracy : 0.96612\n"
     ]
    },
    {
     "name": "stderr",
     "output_type": "stream",
     "text": [
      " epoch : 2\t loss: 0.03039\t accuracy: 1.000: 100%|██████████████████████████████████| 3750/3750 [02:00<00:00, 31.17it/s]\n"
     ]
    },
    {
     "name": "stdout",
     "output_type": "stream",
     "text": [
      " mid loss : 0.07519\n",
      " accuracy : 0.97693\n"
     ]
    },
    {
     "name": "stderr",
     "output_type": "stream",
     "text": [
      " epoch : 3\t loss: 0.01251\t accuracy: 1.000: 100%|██████████████████████████████████| 3750/3750 [01:56<00:00, 32.15it/s]\n"
     ]
    },
    {
     "name": "stdout",
     "output_type": "stream",
     "text": [
      " mid loss : 0.05819\n",
      " accuracy : 0.98177\n"
     ]
    },
    {
     "name": "stderr",
     "output_type": "stream",
     "text": [
      " epoch : 4\t loss: 0.02044\t accuracy: 1.000: 100%|██████████████████████████████████| 3750/3750 [01:39<00:00, 37.79it/s]"
     ]
    },
    {
     "name": "stdout",
     "output_type": "stream",
     "text": [
      " mid loss : 0.04838\n",
      " accuracy : 0.98503\n"
     ]
    },
    {
     "name": "stderr",
     "output_type": "stream",
     "text": [
      "\n"
     ]
    }
   ],
   "source": [
    "loss_values = []\n",
    "accuracy_values = []\n",
    "\n",
    "for epoch in range(data[\"epochs\"]):\n",
    "    loss_val = 0 \n",
    "    acc_val = 0\n",
    "    for img, label in (pbar :=  tqdm(dataloader)):\n",
    "        optimizer.zero_grad()\n",
    "        pred = model(img)\n",
    "    \n",
    "        label = nn.functional.one_hot(label, 10).float()\n",
    "        \n",
    "        loss = loss_fn(pred, label)\n",
    "        loss.backward()\n",
    "        loss_item = loss.item()\n",
    "        loss_val += loss_item\n",
    "\n",
    "        acc_current = accuracy(pred,label)\n",
    "        acc_val += acc_current\n",
    "        \n",
    "        optimizer.step()\n",
    "\n",
    "        pbar.set_description(f' epoch : {epoch}\\t loss: {loss_item:.5f}\\t accuracy: {acc_current:.3f}')\n",
    "\n",
    "    loss_values.append(loss_val/len(dataloader))\n",
    "    accuracy_values.append(acc_val/len(dataloader))\n",
    "\n",
    "    \n",
    "    print(f\" mid loss : {loss_val/len(dataloader):.5f}\")\n",
    "    print(f\" accuracy : {acc_val/len(dataloader):.5f}\")"
   ]
  },
  {
   "cell_type": "code",
   "execution_count": 41,
   "id": "80eef8f9-4ad1-449d-a832-1d10497699ae",
   "metadata": {},
   "outputs": [
    {
     "data": {
      "image/png": "[encoded data removed]",
      "text/plain": [
       "<Figure size 1000x500 with 1 Axes>"
      ]
     },
     "metadata": {},
     "output_type": "display_data"
    },
    {
     "data": {
      "image/png": "[encoded data removed]",
      "text/plain": [
       "<Figure size 640x480 with 1 Axes>"
      ]
     },
     "metadata": {},
     "output_type": "display_data"
    }
   ],
   "source": [
    "\n",
    "# Plot the loss and accuracy\n",
    "plt.figure(figsize=(10, 5))\n",
    "plt.subplot(1, 2, 1)\n",
    "plt.plot(np.arange(1, data[\"epochs\"] + 1), loss_values, label='Loss')\n",
    "plt.xlabel('Epochs')\n",
    "plt.ylabel('Loss')\n",
    "plt.title('Training Loss over Epochs')\n",
    "plt.legend()\n",
    "plt.savefig('loss_plot.png')\n",
    "plt.show()\n",
    "\n",
    "plt.subplot(1, 2, 2)\n",
    "plt.plot(np.arange(1, data[\"epochs\"] + 1), accuracy_values, label='Accuracy')\n",
    "plt.xlabel('Epochs')\n",
    "plt.ylabel('Accuracy')\n",
    "plt.title('Training Accuracy over Epochs')\n",
    "plt.legend()\n",
    "plt.savefig('accuracy_plot.png')\n",
    "plt.show()"
   ]
  },
  {
   "cell_type": "code",
   "execution_count": null,
   "id": "424cec05-49b3-43e3-829f-ee1bcef0885c",
   "metadata": {},
   "outputs": [],
   "source": []
  },
  {
   "cell_type": "code",
   "execution_count": null,
   "id": "0c2e17e6-850b-4b3c-935f-5a891a358c10",
   "metadata": {},
   "outputs": [],
   "source": []
  }
 ],
 "metadata": {
  "kernelspec": {
   "display_name": "Python 3 (ipykernel)",
   "language": "python",
   "name": "python3"
  },
  "language_info": {
   "codemirror_mode": {
    "name": "ipython",
    "version": 3
   },
   "file_extension": ".py",
   "mimetype": "text/x-python",
   "name": "python",
   "nbconvert_exporter": "python",
   "pygments_lexer": "ipython3",
   "version": "3.11.4"
  }
 },
 "nbformat": 4,
 "nbformat_minor": 5
}
