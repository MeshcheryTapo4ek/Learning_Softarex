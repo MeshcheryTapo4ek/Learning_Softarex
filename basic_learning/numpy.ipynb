{
 "cells": [
  {
   "cell_type": "code",
   "execution_count": 111,
   "id": "9d68334b-e1bc-4963-89a8-45500e978c5f",
   "metadata": {},
   "outputs": [],
   "source": [
    "# numpy"
   ]
  },
  {
   "cell_type": "code",
   "execution_count": 112,
   "id": "8dd2d4d9-ce42-46f6-853f-cb5299e2c3a6",
   "metadata": {},
   "outputs": [
    {
     "name": "stdout",
     "output_type": "stream",
     "text": [
      "?\n",
      "0\n",
      "byte\n",
      "b\n",
      "1\n",
      "ubyte\n",
      "B\n",
      "2\n",
      "short\n",
      "h\n",
      "3\n",
      "ushort\n",
      "H\n",
      "4\n",
      "i\n",
      "5\n",
      "uint\n",
      "I\n",
      "6\n",
      "intp\n",
      "p\n",
      "9\n",
      "uintp\n",
      "P\n",
      "10\n",
      "long\n",
      "l\n",
      "7\n",
      "ulong\n",
      "L\n",
      "8\n",
      "longlong\n",
      "q\n",
      "ulonglong\n",
      "Q\n",
      "half\n",
      "e\n",
      "23\n",
      "f\n",
      "11\n",
      "double\n",
      "d\n",
      "12\n",
      "longdouble\n",
      "g\n",
      "13\n",
      "cfloat\n",
      "F\n",
      "14\n",
      "cdouble\n",
      "D\n",
      "15\n",
      "clongdouble\n",
      "G\n",
      "16\n",
      "O\n",
      "17\n",
      "S\n",
      "18\n",
      "unicode\n",
      "U\n",
      "19\n",
      "void\n",
      "V\n",
      "20\n",
      "M\n",
      "21\n",
      "m\n",
      "22\n",
      "b1\n",
      "bool8\n",
      "i8\n",
      "int64\n",
      "u8\n",
      "uint64\n",
      "f2\n",
      "float16\n",
      "f4\n",
      "float32\n",
      "f8\n",
      "float64\n",
      "c8\n",
      "complex64\n",
      "c16\n",
      "complex128\n",
      "object0\n",
      "bytes0\n",
      "str0\n",
      "void0\n",
      "M8\n",
      "datetime64\n",
      "m8\n",
      "timedelta64\n",
      "int32\n",
      "i4\n",
      "uint32\n",
      "u4\n",
      "int16\n",
      "i2\n",
      "uint16\n",
      "u2\n",
      "int8\n",
      "i1\n",
      "uint8\n",
      "u1\n",
      "complex_\n",
      "single\n",
      "csingle\n",
      "singlecomplex\n",
      "float_\n",
      "intc\n",
      "uintc\n",
      "int_\n",
      "longfloat\n",
      "clongfloat\n",
      "longcomplex\n",
      "bool_\n",
      "bytes_\n",
      "string_\n",
      "str_\n",
      "unicode_\n",
      "object_\n",
      "int\n",
      "float\n",
      "complex\n",
      "bool\n",
      "object\n",
      "str\n",
      "bytes\n",
      "a\n",
      "int0\n",
      "uint0\n"
     ]
    }
   ],
   "source": [
    "import numpy as np\n",
    "\n",
    "a = np.array([1,2,3,4], 'uint8')\n",
    "for elem in  np.sctypeDict:\n",
    "    print(elem)"
   ]
  },
  {
   "cell_type": "code",
   "execution_count": 113,
   "id": "adae995a-ee6b-4a5e-94db-577683cb551f",
   "metadata": {},
   "outputs": [
    {
     "data": {
      "text/plain": [
       "array([1.+0.j, 2.+0.j, 3.+0.j, 4.+0.j], dtype=complex64)"
      ]
     },
     "execution_count": 113,
     "metadata": {},
     "output_type": "execute_result"
    }
   ],
   "source": [
    "np.complex64(a)"
   ]
  },
  {
   "cell_type": "code",
   "execution_count": 114,
   "id": "116df3e7-141f-4549-87f1-a60b585ad3dd",
   "metadata": {},
   "outputs": [
    {
     "data": {
      "text/plain": [
       "array([0, 1, 2, 3, 4, 5, 6, 7, 8, 9])"
      ]
     },
     "execution_count": 114,
     "metadata": {},
     "output_type": "execute_result"
    }
   ],
   "source": [
    "np.array([x for x in range(10)])"
   ]
  },
  {
   "cell_type": "code",
   "execution_count": 115,
   "id": "da049a75-5819-4b37-95a2-b0be1c314f28",
   "metadata": {},
   "outputs": [
    {
     "data": {
      "text/plain": [
       "array([[1., 0., 0., 0.],\n",
       "       [0., 1., 0., 0.],\n",
       "       [0., 0., 1., 0.]])"
      ]
     },
     "execution_count": 115,
     "metadata": {},
     "output_type": "execute_result"
    }
   ],
   "source": [
    "np.eye(3,4) # тут используются размерности "
   ]
  },
  {
   "cell_type": "code",
   "execution_count": 116,
   "id": "7789e645-e9f2-491b-af78-5db74af3f592",
   "metadata": {},
   "outputs": [
    {
     "data": {
      "text/plain": [
       "array([[1., 1.],\n",
       "       [1., 1.],\n",
       "       [1., 1.]])"
      ]
     },
     "execution_count": 116,
     "metadata": {},
     "output_type": "execute_result"
    }
   ],
   "source": [
    "np.ones([3,2]) # тут используется shape"
   ]
  },
  {
   "cell_type": "code",
   "execution_count": 117,
   "id": "2df68302-ab09-4eb9-9f9d-d33e16ef4a3e",
   "metadata": {},
   "outputs": [
    {
     "data": {
      "text/plain": [
       "array([[[-1, -1],\n",
       "        [-1, -1],\n",
       "        [-1, -1]],\n",
       "\n",
       "       [[-1, -1],\n",
       "        [-1, -1],\n",
       "        [-1, -1]]])"
      ]
     },
     "execution_count": 117,
     "metadata": {},
     "output_type": "execute_result"
    }
   ],
   "source": [
    "np.full([2,3,2], -1)"
   ]
  },
  {
   "cell_type": "code",
   "execution_count": 118,
   "id": "0ba74ccb-c0ed-4856-a5ef-1040d0be6e39",
   "metadata": {},
   "outputs": [
    {
     "data": {
      "text/plain": [
       "array([[ 1,  0,  0,  0,  0,  0,  0,  0,  0,  0,  0],\n",
       "       [ 0,  2,  0,  0,  0,  0,  0,  0,  0,  0,  0],\n",
       "       [ 0,  0,  3,  0,  0,  0,  0,  0,  0,  0,  0],\n",
       "       [ 0,  0,  0,  4,  0,  0,  0,  0,  0,  0,  0],\n",
       "       [ 0,  0,  0,  0,  5,  0,  0,  0,  0,  0,  0],\n",
       "       [ 0,  0,  0,  0,  0,  6,  0,  0,  0,  0,  0],\n",
       "       [ 0,  0,  0,  0,  0,  0,  7,  0,  0,  0,  0],\n",
       "       [ 0,  0,  0,  0,  0,  0,  0,  8,  0,  0,  0],\n",
       "       [ 0,  0,  0,  0,  0,  0,  0,  0,  1,  0,  0],\n",
       "       [ 0,  0,  0,  0,  0,  0,  0,  0,  0, 11,  0],\n",
       "       [ 0,  0,  0,  0,  0,  0,  0,  0,  0,  0, 11]])"
      ]
     },
     "execution_count": 118,
     "metadata": {},
     "output_type": "execute_result"
    }
   ],
   "source": [
    "np.diag([1,2,3,4,5,6,7,8,1,11,11])"
   ]
  },
  {
   "cell_type": "code",
   "execution_count": 119,
   "id": "973940c7-ca73-4bf8-b133-15954832f767",
   "metadata": {},
   "outputs": [
    {
     "data": {
      "text/plain": [
       "array([ 3. ,  4.2,  5.4,  6.6,  7.8,  9. , 10.2, 11.4])"
      ]
     },
     "execution_count": 119,
     "metadata": {},
     "output_type": "execute_result"
    }
   ],
   "source": [
    "np.arange(3,12,1.2)"
   ]
  },
  {
   "cell_type": "code",
   "execution_count": 120,
   "id": "871ba6e4-2e95-44df-914a-48443af92941",
   "metadata": {},
   "outputs": [
    {
     "data": {
      "text/plain": [
       "array([  10. ,  257.5,  505. ,  752.5, 1000. ])"
      ]
     },
     "execution_count": 120,
     "metadata": {},
     "output_type": "execute_result"
    }
   ],
   "source": [
    "np.linspace(10, 1000, 5)"
   ]
  },
  {
   "cell_type": "code",
   "execution_count": 121,
   "id": "03be4925-da02-4307-9c60-f66ee886e113",
   "metadata": {},
   "outputs": [
    {
     "data": {
      "text/plain": [
       "array([ 1.        ,  1.77827941,  3.16227766,  5.62341325, 10.        ])"
      ]
     },
     "execution_count": 121,
     "metadata": {},
     "output_type": "execute_result"
    }
   ],
   "source": [
    "np.logspace(0, 1, 5)"
   ]
  },
  {
   "cell_type": "code",
   "execution_count": 122,
   "id": "a64b7312-4774-4806-a952-b2d785b41853",
   "metadata": {},
   "outputs": [
    {
     "data": {
      "text/plain": [
       "array([  10.        ,   31.6227766 ,  100.        ,  316.22776602,\n",
       "       1000.        ])"
      ]
     },
     "execution_count": 122,
     "metadata": {},
     "output_type": "execute_result"
    }
   ],
   "source": [
    "np. geomspace(10,1000,5)"
   ]
  },
  {
   "cell_type": "code",
   "execution_count": 123,
   "id": "e4cb88e7-612c-456f-a89c-61d7b788ee0c",
   "metadata": {},
   "outputs": [
    {
     "data": {
      "text/plain": [
       "array([[1, 1],\n",
       "       [1, 4],\n",
       "       [3, 1],\n",
       "       [3, 4]])"
      ]
     },
     "execution_count": 123,
     "metadata": {},
     "output_type": "execute_result"
    }
   ],
   "source": [
    "np.array([(x,y) for x in range(1, 4, 2) for y in range (1, 5, 3)])"
   ]
  },
  {
   "cell_type": "code",
   "execution_count": 124,
   "id": "00f18fcd-6e25-4974-9c98-71b8c945d7f6",
   "metadata": {},
   "outputs": [
    {
     "name": "stdout",
     "output_type": "stream",
     "text": [
      "[[  0 100   2   3   4]\n",
      " [  5   6   7   8   9]]\n",
      "[  0 100   2   3   4   5   6   7   8   9]\n"
     ]
    }
   ],
   "source": [
    "a = np.array([ x for x in range(10)])\n",
    "a.shape = 2 ,5 \n",
    "b = a.reshape(10)\n",
    "a[0][1] = 100\n",
    "print(a)\n",
    "print(b)"
   ]
  },
  {
   "cell_type": "code",
   "execution_count": 125,
   "id": "47893f62-9fe5-4405-acc5-79490314627b",
   "metadata": {},
   "outputs": [
    {
     "name": "stdout",
     "output_type": "stream",
     "text": [
      "[[  0]\n",
      " [100]\n",
      " [  2]\n",
      " [  3]\n",
      " [  4]\n",
      " [  5]\n",
      " [  6]\n",
      " [  7]\n",
      " [  8]\n",
      " [  9]]\n"
     ]
    }
   ],
   "source": [
    "print(a.reshape(-1, 1))"
   ]
  },
  {
   "cell_type": "code",
   "execution_count": 126,
   "id": "9ac54d3b-fe76-4c70-aef0-ec39696d4f86",
   "metadata": {},
   "outputs": [
    {
     "ename": "ValueError",
     "evalue": "cannot resize an array that references or is referenced\nby another array in this way.\nUse the np.resize function or refcheck=False",
     "output_type": "error",
     "traceback": [
      "\u001b[1;31m---------------------------------------------------------------------------\u001b[0m",
      "\u001b[1;31mValueError\u001b[0m                                Traceback (most recent call last)",
      "Cell \u001b[1;32mIn[126], line 1\u001b[0m\n\u001b[1;32m----> 1\u001b[0m \u001b[43ma\u001b[49m\u001b[38;5;241;43m.\u001b[39;49m\u001b[43mresize\u001b[49m\u001b[43m(\u001b[49m\u001b[38;5;241;43m4\u001b[39;49m\u001b[43m,\u001b[49m\u001b[38;5;241;43m5\u001b[39;49m\u001b[43m,\u001b[49m\u001b[43m \u001b[49m\u001b[43mrefcheck\u001b[49m\u001b[43m \u001b[49m\u001b[38;5;241;43m=\u001b[39;49m\u001b[43m \u001b[49m\u001b[38;5;28;43;01mTrue\u001b[39;49;00m\u001b[43m)\u001b[49m\n\u001b[0;32m      2\u001b[0m \u001b[38;5;28mprint\u001b[39m(a)\n",
      "\u001b[1;31mValueError\u001b[0m: cannot resize an array that references or is referenced\nby another array in this way.\nUse the np.resize function or refcheck=False"
     ]
    }
   ],
   "source": [
    "\n",
    "a.resize(4,5, refcheck = True)\n",
    "print(a)\n"
   ]
  },
  {
   "cell_type": "code",
   "execution_count": 127,
   "id": "e0b90e4c-bf55-4848-9afa-b14898d82482",
   "metadata": {},
   "outputs": [],
   "source": [
    "b = a.T"
   ]
  },
  {
   "cell_type": "code",
   "execution_count": 128,
   "id": "d392f207-e1ea-4330-be1f-9bd6bdb6db2f",
   "metadata": {},
   "outputs": [
    {
     "name": "stdout",
     "output_type": "stream",
     "text": [
      "[[  0   5]\n",
      " [100   6]\n",
      " [  2   7]\n",
      " [  3   8]\n",
      " [  4   9]]\n"
     ]
    }
   ],
   "source": [
    "print(b)"
   ]
  },
  {
   "cell_type": "code",
   "execution_count": 129,
   "id": "a08a4a78-9b0d-41d1-a06c-c27cd6c5c19d",
   "metadata": {},
   "outputs": [
    {
     "name": "stdout",
     "output_type": "stream",
     "text": [
      "[[1.  2. ]\n",
      " [1.  2.5]\n",
      " [1.  3. ]\n",
      " [1.  3.5]\n",
      " [1.5 2. ]\n",
      " [1.5 2.5]\n",
      " [1.5 3. ]\n",
      " [1.5 3.5]\n",
      " [2.  2. ]\n",
      " [2.  2.5]\n",
      " [2.  3. ]\n",
      " [2.  3.5]\n",
      " [2.5 2. ]\n",
      " [2.5 2.5]\n",
      " [2.5 3. ]\n",
      " [2.5 3.5]]\n",
      "[[-1.    1.  ]\n",
      " [-1.    1.25]\n",
      " [-1.    1.5 ]\n",
      " [-1.    1.75]\n",
      " [-0.5   1.  ]\n",
      " [-0.5   1.25]\n",
      " [-0.5   1.5 ]\n",
      " [-0.5   1.75]\n",
      " [ 0.    1.  ]\n",
      " [ 0.    1.25]\n",
      " [ 0.    1.5 ]\n",
      " [ 0.    1.75]\n",
      " [ 0.5   1.  ]\n",
      " [ 0.5   1.25]\n",
      " [ 0.5   1.5 ]\n",
      " [ 0.5   1.75]]\n"
     ]
    }
   ],
   "source": [
    "\n",
    "a = np.array([[x,y] for x in np.arange(1,3,0.5) for y in np.arange(2,4,0.5)])\n",
    "print(a)\n",
    "b = np.array([[x,y] for x in np.arange(-1,1,0.5) for y in np.arange(1,2,0.25)])\n",
    "print(b)"
   ]
  },
  {
   "cell_type": "code",
   "execution_count": 130,
   "id": "8ca237e7-88ce-4f7c-b0d8-c63eb9b60629",
   "metadata": {},
   "outputs": [
    {
     "name": "stdout",
     "output_type": "stream",
     "text": [
      "[[ 1.    2.   -1.    1.  ]\n",
      " [ 1.    2.5  -1.    1.25]\n",
      " [ 1.    3.   -1.    1.5 ]\n",
      " [ 1.    3.5  -1.    1.75]\n",
      " [ 1.5   2.   -0.5   1.  ]\n",
      " [ 1.5   2.5  -0.5   1.25]\n",
      " [ 1.5   3.   -0.5   1.5 ]\n",
      " [ 1.5   3.5  -0.5   1.75]\n",
      " [ 2.    2.    0.    1.  ]\n",
      " [ 2.    2.5   0.    1.25]\n",
      " [ 2.    3.    0.    1.5 ]\n",
      " [ 2.    3.5   0.    1.75]\n",
      " [ 2.5   2.    0.5   1.  ]\n",
      " [ 2.5   2.5   0.5   1.25]\n",
      " [ 2.5   3.    0.5   1.5 ]\n",
      " [ 2.5   3.5   0.5   1.75]]\n"
     ]
    }
   ],
   "source": [
    "ab = np.hstack([a,b])\n",
    "print(ab)"
   ]
  },
  {
   "cell_type": "code",
   "execution_count": 131,
   "id": "63ea7707-ede9-4c8e-a1ae-aab0b42af420",
   "metadata": {},
   "outputs": [
    {
     "name": "stdout",
     "output_type": "stream",
     "text": [
      "[[ 1.    2.  ]\n",
      " [ 1.    2.5 ]\n",
      " [ 1.    3.  ]\n",
      " [ 1.    3.5 ]\n",
      " [ 1.5   2.  ]\n",
      " [ 1.5   2.5 ]\n",
      " [ 1.5   3.  ]\n",
      " [ 1.5   3.5 ]\n",
      " [ 2.    2.  ]\n",
      " [ 2.    2.5 ]\n",
      " [ 2.    3.  ]\n",
      " [ 2.    3.5 ]\n",
      " [ 2.5   2.  ]\n",
      " [ 2.5   2.5 ]\n",
      " [ 2.5   3.  ]\n",
      " [ 2.5   3.5 ]\n",
      " [-1.    1.  ]\n",
      " [-1.    1.25]\n",
      " [-1.    1.5 ]\n",
      " [-1.    1.75]\n",
      " [-0.5   1.  ]\n",
      " [-0.5   1.25]\n",
      " [-0.5   1.5 ]\n",
      " [-0.5   1.75]\n",
      " [ 0.    1.  ]\n",
      " [ 0.    1.25]\n",
      " [ 0.    1.5 ]\n",
      " [ 0.    1.75]\n",
      " [ 0.5   1.  ]\n",
      " [ 0.5   1.25]\n",
      " [ 0.5   1.5 ]\n",
      " [ 0.5   1.75]]\n"
     ]
    }
   ],
   "source": [
    "ba = np.vstack([a,b])\n",
    "print(ba)"
   ]
  },
  {
   "cell_type": "code",
   "execution_count": 132,
   "id": "fa1c3d81-d8c1-4fc9-abb2-3eaf124f9bc3",
   "metadata": {},
   "outputs": [
    {
     "name": "stdout",
     "output_type": "stream",
     "text": [
      "[1. 2. 3. 4. 5. 6. 7. 8.]\n",
      "[[1. 2. 3. 4.]\n",
      " [5. 6. 7. 8.]]\n"
     ]
    }
   ],
   "source": [
    "a = np.fromstring('1,2,3,4', sep = ',')\n",
    "b = np.fromstring('5,6,7,8', sep = ',')\n",
    "\n",
    "print(np.hstack([a,b]))\n",
    "print(np.vstack([a,b]))"
   ]
  },
  {
   "cell_type": "code",
   "execution_count": 133,
   "id": "8bf33a44-fe17-4d01-b6ba-a0f33604c23a",
   "metadata": {},
   "outputs": [
    {
     "name": "stdout",
     "output_type": "stream",
     "text": [
      "Разбиение матрицы на равные части:\n",
      "[[1 2 3]]\n",
      "[[4 5 6]]\n",
      "[[7 8 9]]\n",
      "\n",
      "Разбиение матрицы по указанным индексам:\n",
      "[[1 2 3]]\n",
      "[[4 5 6]\n",
      " [7 8 9]]\n",
      "[]\n",
      "[[7 8 9]]\n"
     ]
    }
   ],
   "source": [
    "matrix = np.array([[1, 2, 3], [4, 5, 6], [7, 8, 9]])\n",
    "\n",
    "# Разбиение матрицы на равные части\n",
    "split_result = np.split(matrix, 3)\n",
    "\n",
    "# Разбиение матрицы по указанным индексам\n",
    "split_custom = np.split(matrix, [1,3,2])\n",
    "\n",
    "print(\"Разбиение матрицы на равные части:\")\n",
    "for part in split_result:\n",
    "    print(part)\n",
    "\n",
    "print(\"\\nРазбиение матрицы по указанным индексам:\")\n",
    "for part in split_custom:\n",
    "    print(part)"
   ]
  },
  {
   "cell_type": "code",
   "execution_count": 134,
   "id": "f5dbfa4c-b70c-4dd5-bce7-6981a9c3e64d",
   "metadata": {},
   "outputs": [
    {
     "name": "stdout",
     "output_type": "stream",
     "text": [
      "[[1 2]\n",
      " [3 4]]\n",
      "[[5 6]\n",
      " [7 8]]\n",
      "Объединение матриц по вертикали:\n",
      "[[1 2]\n",
      " [3 4]\n",
      " [5 6]\n",
      " [7 8]]\n",
      "\n",
      "Объединение матриц по горизонтали:\n",
      "[[1 2 5 6]\n",
      " [3 4 7 8]]\n"
     ]
    }
   ],
   "source": [
    "# Создание двух матриц\n",
    "matrix_a = np.array([[1, 2], [3, 4]])\n",
    "print(matrix_a)\n",
    "matrix_b = np.array([[5, 6], [7, 8]])\n",
    "print(matrix_b)\n",
    "\n",
    "# Объединение матриц по вертикали\n",
    "vertical_stack = np.vstack((matrix_a, matrix_b))\n",
    "\n",
    "# Объединение матриц по горизонтали\n",
    "horizontal_stack = np.hstack((matrix_a, matrix_b))\n",
    "\n",
    "print(\"Объединение матриц по вертикали:\")\n",
    "print(vertical_stack)\n",
    "\n",
    "print(\"\\nОбъединение матриц по горизонтали:\")\n",
    "print(horizontal_stack)"
   ]
  },
  {
   "cell_type": "code",
   "execution_count": 135,
   "id": "cd014f0a-f32b-4ba9-8501-6f642d6f573c",
   "metadata": {},
   "outputs": [],
   "source": [
    "arr = np.array([1, 2, 3, 4, 5])\n",
    "labels = np.array([1,0,1,1,0])\n",
    "\n",
    "indices = np.array([0, 2, 4, 1, 3]) \n",
    "\n",
    "arr_shuffled = arr[indices]"
   ]
  },
  {
   "cell_type": "code",
   "execution_count": 136,
   "id": "494808f1-c51d-4226-97dc-c6c1aaa8fd78",
   "metadata": {},
   "outputs": [
    {
     "name": "stdout",
     "output_type": "stream",
     "text": [
      "[0 3 1 2 4]\n"
     ]
    }
   ],
   "source": [
    "shuffled_indices = np.random.permutation(5)\n",
    "print(shuffled_indices)\n",
    "\n",
    "sh_ar = arr[shuffled_indices]\n",
    "sh_labels = labels[shuffled_indices]"
   ]
  },
  {
   "cell_type": "code",
   "execution_count": 137,
   "id": "458af032-8d79-4820-9194-7d6c6abad480",
   "metadata": {},
   "outputs": [
    {
     "name": "stdout",
     "output_type": "stream",
     "text": [
      "[1 2 3 4 5] [ 6  7  8  9 10]\n",
      "Результат сложения: [ 7  9 11 13 15]\n",
      "Результат вычитания: [5 5 5 5 5]\n",
      "Результат умножения: [ 6 14 24 36 50]\n",
      "Результат деления: [6.         3.5        2.66666667 2.25       2.        ]\n",
      "Результат возведения в степень: [ 1  4  9 16 25]\n",
      "Сумма всех элементов в массиве 'a': 15\n",
      "Среднее значение всех элементов в массиве 'b': 8.0\n",
      "Максимальное значение в массиве 'a': 5\n",
      "Минимальное значение в массиве 'b': 6\n"
     ]
    }
   ],
   "source": [
    "a = np.array([1, 2, 3, 4, 5])\n",
    "b = np.array([6, 7, 8, 9, 10])\n",
    "print(a, b)\n",
    "\n",
    "# Сложение\n",
    "addition = np.add(a, b)\n",
    "print(\"Результат сложения:\", addition)\n",
    "\n",
    "# Вычитание\n",
    "subtraction = np.subtract(b, a)\n",
    "print(\"Результат вычитания:\", subtraction)\n",
    "\n",
    "# Умножение\n",
    "multiplication = np.multiply(a, b)\n",
    "print(\"Результат умножения:\", multiplication)\n",
    "\n",
    "# Деление\n",
    "division = np.divide(b, a)\n",
    "print(\"Результат деления:\", division)\n",
    "\n",
    "# Возведение в степень\n",
    "exponentiation = np.power(a, 2) # еще можно a**2\n",
    "print(\"Результат возведения в степень:\", exponentiation)\n",
    "\n",
    "# Сумма всех элементов\n",
    "sum_all = np.sum(a)\n",
    "print(\"Сумма всех элементов в массиве 'a':\", sum_all)\n",
    "\n",
    "# Среднее значение\n",
    "mean_value = np.mean(b)\n",
    "print(\"Среднее значение всех элементов в массиве 'b':\", mean_value)\n",
    "\n",
    "# Максимальное значение\n",
    "max_value = np.max(a)\n",
    "print(\"Максимальное значение в массиве 'a':\", max_value)\n",
    "\n",
    "# Минимальное значение\n",
    "min_value = np.min(b)\n",
    "print(\"Минимальное значение в массиве 'b':\", min_value)"
   ]
  },
  {
   "cell_type": "code",
   "execution_count": 138,
   "id": "aadd310c-c46f-429e-a397-2dab0e5525ce",
   "metadata": {},
   "outputs": [
    {
     "name": "stdout",
     "output_type": "stream",
     "text": [
      "Результат сравнения на больше: [False False False False  True]\n",
      "Результат сравнения на больше или равно: [False  True  True  True  True]\n",
      "Результат сравнения на меньше: [ True False False False False]\n",
      "Результат сравнения на меньше или равно: [ True  True  True  True False]\n",
      "Результат сравнения на равенство: [False  True  True  True False]\n",
      "Результат сравнения на неравенство: [ True False False False  True]\n",
      "Результат сравнения на any: False\n",
      "Результат сравнения на all: False\n",
      " делим на 0  [inf inf inf inf inf]\n"
     ]
    },
    {
     "name": "stderr",
     "output_type": "stream",
     "text": [
      "C:\\Users\\egors\\AppData\\Local\\Temp\\ipykernel_6320\\1058744225.py:25: RuntimeWarning: divide by zero encountered in divide\n",
      "  div0 = a/0\n"
     ]
    }
   ],
   "source": [
    "a = np.array([1, 2, 3, 4, 5])\n",
    "b = np.array([4, 2, 3, 4, 1])\n",
    "\n",
    "# Операторы сравнения\n",
    "greater = np.greater(a, b)  # Сравнение на больше\n",
    "print(\"Результат сравнения на больше:\", greater)\n",
    "\n",
    "greater_equal = np.greater_equal(a, b)  # Сравнение на больше или равно\n",
    "print(\"Результат сравнения на больше или равно:\", greater_equal)\n",
    "\n",
    "less = np.less(a, b)  # Сравнение на меньше\n",
    "print(\"Результат сравнения на меньше:\", less)\n",
    "\n",
    "less_equal = np.less_equal(a, b)  # Сравнение на меньше или равно\n",
    "print(\"Результат сравнения на меньше или равно:\", less_equal)\n",
    "\n",
    "equal = np.equal(a, b)  # Сравнение на равенство\n",
    "print(\"Результат сравнения на равенство:\", equal)\n",
    "\n",
    "not_equal = np.not_equal(a, b)  # Сравнение на неравенство\n",
    "print(\"Результат сравнения на неравенство:\", not_equal)\n",
    "\n",
    "print(\"Результат сравнения на any:\", np.any(a >5))\n",
    "print(\"Результат сравнения на all:\", np.all(a >5))\n",
    "div0 = a/0\n",
    "print(\" делим на 0 \", div0)\n",
    "\n",
    "#np.array_equal - все соотвт елементы равны"
   ]
  },
  {
   "cell_type": "code",
   "execution_count": 139,
   "id": "58b6027f-198f-48cc-b853-af206bcc3cc0",
   "metadata": {},
   "outputs": [
    {
     "name": "stdout",
     "output_type": "stream",
     "text": [
      "Массив без nan и inf значений: [1. 2. 3. 4. 5.]\n"
     ]
    }
   ],
   "source": [
    "arr = np.array([1, 2, np.nan, 3, np.inf, 4, 5, -np.inf])\n",
    "\n",
    "# Фильтрация nan и inf значений\n",
    "filtered_arr = arr[np.isfinite(arr)]\n",
    "\n",
    "# Вывод отфильтрованного массива\n",
    "print(\"Массив без nan и inf значений:\", filtered_arr)"
   ]
  },
  {
   "cell_type": "code",
   "execution_count": 140,
   "id": "04bfdff3-85f1-430e-a721-c2555e5433ec",
   "metadata": {},
   "outputs": [
    {
     "name": "stdout",
     "output_type": "stream",
     "text": [
      "[[1 2]\n",
      " [3 4]]\n",
      "[[5 6]\n",
      " [7 8]]\n",
      "Произведение двух матриц:\n",
      "[[19 22]\n",
      " [43 50]]\n",
      "Скалярное произведение векторов: 32\n",
      "внешнее произведение векторов: [[ 4  5  6]\n",
      " [ 8 10 12]\n",
      " [12 15 18]]\n",
      "Определитель матрицы:\n",
      "-2.0000000000000004\n",
      "Обратная матрица:\n",
      "[[-2.   1. ]\n",
      " [ 1.5 -0.5]]\n",
      "Собственные значения:\n",
      "[-0.37228132  5.37228132]\n",
      "Собственные векторы:\n",
      "[[-0.82456484 -0.41597356]\n",
      " [ 0.56576746 -0.90937671]]\n"
     ]
    }
   ],
   "source": [
    "matrix_a = np.array([[1, 2], [3, 4]])\n",
    "matrix_b = np.array([[5, 6], [7, 8]])\n",
    "print(matrix_a)\n",
    "print(matrix_b)\n",
    "\n",
    "matrix_product = np.dot(matrix_a, matrix_b)\n",
    "print(\"Произведение двух матриц:\")\n",
    "print(matrix_product)\n",
    "\n",
    "# Произведение векторов\n",
    "vector_a = np.array([1, 2, 3])\n",
    "vector_b = np.array([4, 5, 6])\n",
    "\n",
    "vector_product = np.dot(vector_a, vector_b)\n",
    "print(\"Скалярное произведение векторов:\", vector_product)\n",
    "\n",
    "outer_product = np.outer(vector_a, vector_b)\n",
    "print(\"внешнее произведение векторов:\", outer_product)\n",
    "\n",
    "# Вычисление определителя матрицы\n",
    "det_matrix_a = np.linalg.det(matrix_a)\n",
    "print(\"Определитель матрицы:\")\n",
    "print(det_matrix_a)\n",
    "\n",
    "# Вычисление обратной матрицы\n",
    "inverse_matrix_a = np.linalg.inv(matrix_a)\n",
    "print(\"Обратная матрица:\")\n",
    "print(inverse_matrix_a)\n",
    "\n",
    "# Вычисление собственных значений и собственных векторов\n",
    "eigen_values, eigen_vectors = np.linalg.eig(matrix_a)\n",
    "print(\"Собственные значения:\")\n",
    "print(eigen_values)\n",
    "print(\"Собственные векторы:\")\n",
    "print(eigen_vectors)"
   ]
  },
  {
   "cell_type": "code",
   "execution_count": 141,
   "id": "14ea89b7-997b-45eb-a182-7b12e3ec1b34",
   "metadata": {},
   "outputs": [
    {
     "name": "stdout",
     "output_type": "stream",
     "text": [
      "[2. 3.]\n"
     ]
    }
   ],
   "source": [
    "# Решение системы линейных уравнений:\n",
    "\n",
    "A = np.array([[3, 1], [1, 2]])\n",
    "\n",
    "B = np.array([9, 8])\n",
    "\n",
    "solution = np.linalg.solve(A, B)\n",
    "\n",
    "print( solution)"
   ]
  },
  {
   "cell_type": "code",
   "execution_count": null,
   "id": "e79d5b20-d138-4cc0-8ba5-8b9510bbba87",
   "metadata": {},
   "outputs": [],
   "source": []
  },
  {
   "cell_type": "code",
   "execution_count": null,
   "id": "62df7755-ea15-431f-9391-f79e4d8a6ad3",
   "metadata": {},
   "outputs": [],
   "source": []
  }
 ],
 "metadata": {
  "kernelspec": {
   "display_name": "Python 3 (ipykernel)",
   "language": "python",
   "name": "python3"
  },
  "language_info": {
   "codemirror_mode": {
    "name": "ipython",
    "version": 3
   },
   "file_extension": ".py",
   "mimetype": "text/x-python",
   "name": "python",
   "nbconvert_exporter": "python",
   "pygments_lexer": "ipython3",
   "version": "3.11.4"
  }
 },
 "nbformat": 4,
 "nbformat_minor": 5
}
